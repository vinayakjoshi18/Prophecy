{
  "nbformat": 4,
  "nbformat_minor": 0,
  "metadata": {
    "kernelspec": {
      "display_name": "Python 3",
      "language": "python",
      "name": "python3"
    },
    "language_info": {
      "codemirror_mode": {
        "name": "ipython",
        "version": 3
      },
      "file_extension": ".py",
      "mimetype": "text/x-python",
      "name": "python",
      "nbconvert_exporter": "python",
      "pygments_lexer": "ipython3",
      "version": "3.6.9"
    },
    "colab": {
      "name": "Prediction2.ipynb",
      "provenance": []
    }
  },
  "cells": [
    {
      "cell_type": "markdown",
      "metadata": {
        "id": "BLjUGCzTdPVf"
      },
      "source": [
        "### Stock Market Prediction And Forecasting Using Stacked LSTM"
      ]
    },
    {
      "cell_type": "code",
      "metadata": {
        "id": "9xtaFDDedPVg"
      },
      "source": [
        "### Keras and Tensorflow >2.0"
      ],
      "execution_count": 46,
      "outputs": []
    },
    {
      "cell_type": "code",
      "metadata": {
        "id": "srUgSpHPdPVg"
      },
      "source": [
        "### Data Collection\n",
        "import pandas_datareader as pdr\n",
        "key=\"\""
      ],
      "execution_count": 47,
      "outputs": []
    },
    {
      "cell_type": "code",
      "metadata": {
        "id": "ZV3cdp_mdPVg"
      },
      "source": [
        "df = pdr.get_data_tiingo('AAPL', api_key='d4f7a497c5dae8f91d5f3e949847471bce3672e8')"
      ],
      "execution_count": 48,
      "outputs": []
    },
    {
      "cell_type": "code",
      "metadata": {
        "id": "ZeHq7TlKdPVg"
      },
      "source": [
        "df.to_csv('AAPL.csv')"
      ],
      "execution_count": 49,
      "outputs": []
    },
    {
      "cell_type": "code",
      "metadata": {
        "id": "80qh7jwGdPVg"
      },
      "source": [
        "import pandas as pd"
      ],
      "execution_count": 50,
      "outputs": []
    },
    {
      "cell_type": "code",
      "metadata": {
        "id": "zkKxb34VdPVg"
      },
      "source": [
        "df=pd.read_csv('AAPL.csv')"
      ],
      "execution_count": 51,
      "outputs": []
    },
    {
      "cell_type": "code",
      "metadata": {
        "colab": {
          "base_uri": "https://localhost:8080/",
          "height": 200
        },
        "id": "2RSApCo0dPVg",
        "outputId": "c9e620c4-26e5-4e2c-bfc5-7ca4e7d4e0c1"
      },
      "source": [
        "df.head()"
      ],
      "execution_count": 52,
      "outputs": [
        {
          "output_type": "execute_result",
          "data": {
            "text/html": [
              "<div>\n",
              "<style scoped>\n",
              "    .dataframe tbody tr th:only-of-type {\n",
              "        vertical-align: middle;\n",
              "    }\n",
              "\n",
              "    .dataframe tbody tr th {\n",
              "        vertical-align: top;\n",
              "    }\n",
              "\n",
              "    .dataframe thead th {\n",
              "        text-align: right;\n",
              "    }\n",
              "</style>\n",
              "<table border=\"1\" class=\"dataframe\">\n",
              "  <thead>\n",
              "    <tr style=\"text-align: right;\">\n",
              "      <th></th>\n",
              "      <th>symbol</th>\n",
              "      <th>date</th>\n",
              "      <th>close</th>\n",
              "      <th>high</th>\n",
              "      <th>low</th>\n",
              "      <th>open</th>\n",
              "      <th>volume</th>\n",
              "      <th>adjClose</th>\n",
              "      <th>adjHigh</th>\n",
              "      <th>adjLow</th>\n",
              "      <th>adjOpen</th>\n",
              "      <th>adjVolume</th>\n",
              "      <th>divCash</th>\n",
              "      <th>splitFactor</th>\n",
              "    </tr>\n",
              "  </thead>\n",
              "  <tbody>\n",
              "    <tr>\n",
              "      <th>0</th>\n",
              "      <td>AAPL</td>\n",
              "      <td>2015-11-23 00:00:00+00:00</td>\n",
              "      <td>117.75</td>\n",
              "      <td>119.73</td>\n",
              "      <td>117.34</td>\n",
              "      <td>119.27</td>\n",
              "      <td>32482528</td>\n",
              "      <td>27.269555</td>\n",
              "      <td>27.728101</td>\n",
              "      <td>27.174604</td>\n",
              "      <td>27.621570</td>\n",
              "      <td>129930112</td>\n",
              "      <td>0.0</td>\n",
              "      <td>1.0</td>\n",
              "    </tr>\n",
              "    <tr>\n",
              "      <th>1</th>\n",
              "      <td>AAPL</td>\n",
              "      <td>2015-11-24 00:00:00+00:00</td>\n",
              "      <td>118.88</td>\n",
              "      <td>119.35</td>\n",
              "      <td>117.12</td>\n",
              "      <td>117.33</td>\n",
              "      <td>42803172</td>\n",
              "      <td>27.531251</td>\n",
              "      <td>27.640097</td>\n",
              "      <td>27.123655</td>\n",
              "      <td>27.172288</td>\n",
              "      <td>171212688</td>\n",
              "      <td>0.0</td>\n",
              "      <td>1.0</td>\n",
              "    </tr>\n",
              "    <tr>\n",
              "      <th>2</th>\n",
              "      <td>AAPL</td>\n",
              "      <td>2015-11-25 00:00:00+00:00</td>\n",
              "      <td>118.03</td>\n",
              "      <td>119.23</td>\n",
              "      <td>117.92</td>\n",
              "      <td>119.21</td>\n",
              "      <td>21388308</td>\n",
              "      <td>27.334400</td>\n",
              "      <td>27.612307</td>\n",
              "      <td>27.308926</td>\n",
              "      <td>27.607675</td>\n",
              "      <td>85553232</td>\n",
              "      <td>0.0</td>\n",
              "      <td>1.0</td>\n",
              "    </tr>\n",
              "    <tr>\n",
              "      <th>3</th>\n",
              "      <td>AAPL</td>\n",
              "      <td>2015-11-27 00:00:00+00:00</td>\n",
              "      <td>117.81</td>\n",
              "      <td>118.41</td>\n",
              "      <td>117.60</td>\n",
              "      <td>118.29</td>\n",
              "      <td>13046445</td>\n",
              "      <td>27.283451</td>\n",
              "      <td>27.422404</td>\n",
              "      <td>27.234817</td>\n",
              "      <td>27.394613</td>\n",
              "      <td>52185780</td>\n",
              "      <td>0.0</td>\n",
              "      <td>1.0</td>\n",
              "    </tr>\n",
              "    <tr>\n",
              "      <th>4</th>\n",
              "      <td>AAPL</td>\n",
              "      <td>2015-11-30 00:00:00+00:00</td>\n",
              "      <td>118.30</td>\n",
              "      <td>119.41</td>\n",
              "      <td>117.75</td>\n",
              "      <td>117.99</td>\n",
              "      <td>39180322</td>\n",
              "      <td>27.396929</td>\n",
              "      <td>27.653993</td>\n",
              "      <td>27.269555</td>\n",
              "      <td>27.325137</td>\n",
              "      <td>156721288</td>\n",
              "      <td>0.0</td>\n",
              "      <td>1.0</td>\n",
              "    </tr>\n",
              "  </tbody>\n",
              "</table>\n",
              "</div>"
            ],
            "text/plain": [
              "  symbol                       date   close  ...  adjVolume  divCash  splitFactor\n",
              "0   AAPL  2015-11-23 00:00:00+00:00  117.75  ...  129930112      0.0          1.0\n",
              "1   AAPL  2015-11-24 00:00:00+00:00  118.88  ...  171212688      0.0          1.0\n",
              "2   AAPL  2015-11-25 00:00:00+00:00  118.03  ...   85553232      0.0          1.0\n",
              "3   AAPL  2015-11-27 00:00:00+00:00  117.81  ...   52185780      0.0          1.0\n",
              "4   AAPL  2015-11-30 00:00:00+00:00  118.30  ...  156721288      0.0          1.0\n",
              "\n",
              "[5 rows x 14 columns]"
            ]
          },
          "metadata": {
            "tags": []
          },
          "execution_count": 52
        }
      ]
    },
    {
      "cell_type": "code",
      "metadata": {
        "colab": {
          "base_uri": "https://localhost:8080/",
          "height": 200
        },
        "id": "Ni5YuBBzdPVg",
        "outputId": "028a6f26-39f4-4a3c-c6dd-7eea7b476c88"
      },
      "source": [
        "df.tail()"
      ],
      "execution_count": 53,
      "outputs": [
        {
          "output_type": "execute_result",
          "data": {
            "text/html": [
              "<div>\n",
              "<style scoped>\n",
              "    .dataframe tbody tr th:only-of-type {\n",
              "        vertical-align: middle;\n",
              "    }\n",
              "\n",
              "    .dataframe tbody tr th {\n",
              "        vertical-align: top;\n",
              "    }\n",
              "\n",
              "    .dataframe thead th {\n",
              "        text-align: right;\n",
              "    }\n",
              "</style>\n",
              "<table border=\"1\" class=\"dataframe\">\n",
              "  <thead>\n",
              "    <tr style=\"text-align: right;\">\n",
              "      <th></th>\n",
              "      <th>symbol</th>\n",
              "      <th>date</th>\n",
              "      <th>close</th>\n",
              "      <th>high</th>\n",
              "      <th>low</th>\n",
              "      <th>open</th>\n",
              "      <th>volume</th>\n",
              "      <th>adjClose</th>\n",
              "      <th>adjHigh</th>\n",
              "      <th>adjLow</th>\n",
              "      <th>adjOpen</th>\n",
              "      <th>adjVolume</th>\n",
              "      <th>divCash</th>\n",
              "      <th>splitFactor</th>\n",
              "    </tr>\n",
              "  </thead>\n",
              "  <tbody>\n",
              "    <tr>\n",
              "      <th>1254</th>\n",
              "      <td>AAPL</td>\n",
              "      <td>2020-11-16 00:00:00+00:00</td>\n",
              "      <td>120.30</td>\n",
              "      <td>120.9900</td>\n",
              "      <td>118.146</td>\n",
              "      <td>118.92</td>\n",
              "      <td>91183018</td>\n",
              "      <td>120.30</td>\n",
              "      <td>120.9900</td>\n",
              "      <td>118.146</td>\n",
              "      <td>118.92</td>\n",
              "      <td>91183018</td>\n",
              "      <td>0.0</td>\n",
              "      <td>1.0</td>\n",
              "    </tr>\n",
              "    <tr>\n",
              "      <th>1255</th>\n",
              "      <td>AAPL</td>\n",
              "      <td>2020-11-17 00:00:00+00:00</td>\n",
              "      <td>119.39</td>\n",
              "      <td>120.6741</td>\n",
              "      <td>118.960</td>\n",
              "      <td>119.55</td>\n",
              "      <td>74270973</td>\n",
              "      <td>119.39</td>\n",
              "      <td>120.6741</td>\n",
              "      <td>118.960</td>\n",
              "      <td>119.55</td>\n",
              "      <td>74270973</td>\n",
              "      <td>0.0</td>\n",
              "      <td>1.0</td>\n",
              "    </tr>\n",
              "    <tr>\n",
              "      <th>1256</th>\n",
              "      <td>AAPL</td>\n",
              "      <td>2020-11-18 00:00:00+00:00</td>\n",
              "      <td>118.03</td>\n",
              "      <td>119.8200</td>\n",
              "      <td>118.000</td>\n",
              "      <td>118.61</td>\n",
              "      <td>76322111</td>\n",
              "      <td>118.03</td>\n",
              "      <td>119.8200</td>\n",
              "      <td>118.000</td>\n",
              "      <td>118.61</td>\n",
              "      <td>76322111</td>\n",
              "      <td>0.0</td>\n",
              "      <td>1.0</td>\n",
              "    </tr>\n",
              "    <tr>\n",
              "      <th>1257</th>\n",
              "      <td>AAPL</td>\n",
              "      <td>2020-11-19 00:00:00+00:00</td>\n",
              "      <td>118.64</td>\n",
              "      <td>119.0600</td>\n",
              "      <td>116.810</td>\n",
              "      <td>117.59</td>\n",
              "      <td>74112972</td>\n",
              "      <td>118.64</td>\n",
              "      <td>119.0600</td>\n",
              "      <td>116.810</td>\n",
              "      <td>117.59</td>\n",
              "      <td>74112972</td>\n",
              "      <td>0.0</td>\n",
              "      <td>1.0</td>\n",
              "    </tr>\n",
              "    <tr>\n",
              "      <th>1258</th>\n",
              "      <td>AAPL</td>\n",
              "      <td>2020-11-20 00:00:00+00:00</td>\n",
              "      <td>117.34</td>\n",
              "      <td>118.7700</td>\n",
              "      <td>117.290</td>\n",
              "      <td>118.64</td>\n",
              "      <td>73604287</td>\n",
              "      <td>117.34</td>\n",
              "      <td>118.7700</td>\n",
              "      <td>117.290</td>\n",
              "      <td>118.64</td>\n",
              "      <td>73604287</td>\n",
              "      <td>0.0</td>\n",
              "      <td>1.0</td>\n",
              "    </tr>\n",
              "  </tbody>\n",
              "</table>\n",
              "</div>"
            ],
            "text/plain": [
              "     symbol                       date   close  ...  adjVolume  divCash  splitFactor\n",
              "1254   AAPL  2020-11-16 00:00:00+00:00  120.30  ...   91183018      0.0          1.0\n",
              "1255   AAPL  2020-11-17 00:00:00+00:00  119.39  ...   74270973      0.0          1.0\n",
              "1256   AAPL  2020-11-18 00:00:00+00:00  118.03  ...   76322111      0.0          1.0\n",
              "1257   AAPL  2020-11-19 00:00:00+00:00  118.64  ...   74112972      0.0          1.0\n",
              "1258   AAPL  2020-11-20 00:00:00+00:00  117.34  ...   73604287      0.0          1.0\n",
              "\n",
              "[5 rows x 14 columns]"
            ]
          },
          "metadata": {
            "tags": []
          },
          "execution_count": 53
        }
      ]
    },
    {
      "cell_type": "code",
      "metadata": {
        "id": "R-byHgRidPVg"
      },
      "source": [
        "df1=df.reset_index()['close']"
      ],
      "execution_count": 54,
      "outputs": []
    },
    {
      "cell_type": "code",
      "metadata": {
        "colab": {
          "base_uri": "https://localhost:8080/"
        },
        "id": "ESEJEj_NdPVg",
        "outputId": "43db59f8-9302-4d67-ec3c-db8ec54c4633"
      },
      "source": [
        "df1"
      ],
      "execution_count": 55,
      "outputs": [
        {
          "output_type": "execute_result",
          "data": {
            "text/plain": [
              "0       117.75\n",
              "1       118.88\n",
              "2       118.03\n",
              "3       117.81\n",
              "4       118.30\n",
              "         ...  \n",
              "1254    120.30\n",
              "1255    119.39\n",
              "1256    118.03\n",
              "1257    118.64\n",
              "1258    117.34\n",
              "Name: close, Length: 1259, dtype: float64"
            ]
          },
          "metadata": {
            "tags": []
          },
          "execution_count": 55
        }
      ]
    },
    {
      "cell_type": "code",
      "metadata": {
        "colab": {
          "base_uri": "https://localhost:8080/",
          "height": 283
        },
        "id": "1AfuSDy6dPVg",
        "outputId": "f1e36214-4ab0-4822-e952-8d31897d1569"
      },
      "source": [
        "import matplotlib.pyplot as plt\n",
        "plt.plot(df1)"
      ],
      "execution_count": 56,
      "outputs": [
        {
          "output_type": "execute_result",
          "data": {
            "text/plain": [
              "[<matplotlib.lines.Line2D at 0x7f65c09810b8>]"
            ]
          },
          "metadata": {
            "tags": []
          },
          "execution_count": 56
        },
        {
          "output_type": "display_data",
          "data": {
            "image/png": "[encoded data removed]",
            "text/plain": [
              "<Figure size 432x288 with 1 Axes>"
            ]
          },
          "metadata": {
            "tags": [],
            "needs_background": "light"
          }
        }
      ]
    },
    {
      "cell_type": "code",
      "metadata": {
        "id": "W-yLPpUIdPVg"
      },
      "source": [
        "### LSTM are sensitive to the scale of the data. so we apply MinMax scaler "
      ],
      "execution_count": 57,
      "outputs": []
    },
    {
      "cell_type": "code",
      "metadata": {
        "id": "BA75sBxRdPVg"
      },
      "source": [
        "import numpy as np"
      ],
      "execution_count": 58,
      "outputs": []
    },
    {
      "cell_type": "code",
      "metadata": {
        "colab": {
          "base_uri": "https://localhost:8080/"
        },
        "id": "uqWl_U3cdPVg",
        "outputId": "2a83cd38-b637-4254-a6e6-44bb47d87735"
      },
      "source": [
        "df1"
      ],
      "execution_count": 59,
      "outputs": [
        {
          "output_type": "execute_result",
          "data": {
            "text/plain": [
              "0       117.75\n",
              "1       118.88\n",
              "2       118.03\n",
              "3       117.81\n",
              "4       118.30\n",
              "         ...  \n",
              "1254    120.30\n",
              "1255    119.39\n",
              "1256    118.03\n",
              "1257    118.64\n",
              "1258    117.34\n",
              "Name: close, Length: 1259, dtype: float64"
            ]
          },
          "metadata": {
            "tags": []
          },
          "execution_count": 59
        }
      ]
    },
    {
      "cell_type": "code",
      "metadata": {
        "id": "vlftJXVddPVh"
      },
      "source": [
        "from sklearn.preprocessing import MinMaxScaler\n",
        "scaler=MinMaxScaler(feature_range=(0,1))\n",
        "df1=scaler.fit_transform(np.array(df1).reshape(-1,1))"
      ],
      "execution_count": 60,
      "outputs": []
    },
    {
      "cell_type": "code",
      "metadata": {
        "colab": {
          "base_uri": "https://localhost:8080/"
        },
        "id": "n9yBXp4wdPVh",
        "outputId": "d494125f-7747-4801-b172-31c55eb19e5a"
      },
      "source": [
        "print(df1)"
      ],
      "execution_count": 61,
      "outputs": [
        {
          "output_type": "stream",
          "text": [
            "[[0.06592904]\n",
            " [0.06864702]\n",
            " [0.06660253]\n",
            " ...\n",
            " [0.06660253]\n",
            " [0.06806975]\n",
            " [0.06494287]]\n"
          ],
          "name": "stdout"
        }
      ]
    },
    {
      "cell_type": "code",
      "metadata": {
        "id": "YVGGtnQudPVh"
      },
      "source": [
        "##splitting dataset into train and test split\n",
        "training_size=int(len(df1)*0.65)\n",
        "test_size=len(df1)-training_size\n",
        "train_data,test_data=df1[0:training_size,:],df1[training_size:len(df1),:1]"
      ],
      "execution_count": 62,
      "outputs": []
    },
    {
      "cell_type": "code",
      "metadata": {
        "colab": {
          "base_uri": "https://localhost:8080/"
        },
        "id": "5CY1l3S5dPVh",
        "outputId": "ec13d998-c4ec-44c2-b15d-ec8b65a9a97f"
      },
      "source": [
        "training_size,test_size"
      ],
      "execution_count": 63,
      "outputs": [
        {
          "output_type": "execute_result",
          "data": {
            "text/plain": [
              "(818, 441)"
            ]
          },
          "metadata": {
            "tags": []
          },
          "execution_count": 63
        }
      ]
    },
    {
      "cell_type": "code",
      "metadata": {
        "colab": {
          "base_uri": "https://localhost:8080/"
        },
        "id": "w-pVYlz5dPVh",
        "outputId": "05a577fc-161e-44fd-9e15-50f6e4bcce4a"
      },
      "source": [
        "train_data"
      ],
      "execution_count": 64,
      "outputs": [
        {
          "output_type": "execute_result",
          "data": {
            "text/plain": [
              "array([[0.06592904],\n",
              "       [0.06864702],\n",
              "       [0.06660253],\n",
              "       [0.06607336],\n",
              "       [0.06725195],\n",
              "       [0.06494287],\n",
              "       [0.06239327],\n",
              "       [0.05979555],\n",
              "       [0.06900782],\n",
              "       [0.06720385],\n",
              "       [0.06708358],\n",
              "       [0.06080577],\n",
              "       [0.06212868],\n",
              "       [0.05493686],\n",
              "       [0.05325316],\n",
              "       [0.04846663],\n",
              "       [0.05051112],\n",
              "       [0.04483464],\n",
              "       [0.03773903],\n",
              "       [0.0408659 ],\n",
              "       [0.04062538],\n",
              "       [0.04394468],\n",
              "       [0.04254961],\n",
              "       [0.03963921],\n",
              "       [0.04425737],\n",
              "       [0.04084185],\n",
              "       [0.03588695],\n",
              "       [0.03610343],\n",
              "       [0.02975346],\n",
              "       [0.02491882],\n",
              "       [0.01469633],\n",
              "       [0.01592303],\n",
              "       [0.01969934],\n",
              "       [0.02313891],\n",
              "       [0.01695731],\n",
              "       [0.02208058],\n",
              "       [0.01633193],\n",
              "       [0.01520144],\n",
              "       [0.01551413],\n",
              "       [0.01433554],\n",
              "       [0.02665063],\n",
              "       [0.02188815],\n",
              "       [0.02321106],\n",
              "       [0.0074083 ],\n",
              "       [0.00901984],\n",
              "       [0.01683704],\n",
              "       [0.01464823],\n",
              "       [0.00995791],\n",
              "       [0.0144558 ],\n",
              "       [0.01505713],\n",
              "       [0.00885147],\n",
              "       [0.01123271],\n",
              "       [0.01118461],\n",
              "       [0.0094528 ],\n",
              "       [0.00808178],\n",
              "       [0.00877931],\n",
              "       [0.01515334],\n",
              "       [0.01871317],\n",
              "       [0.01423933],\n",
              "       [0.01371016],\n",
              "       [0.01573061],\n",
              "       [0.01046302],\n",
              "       [0.01385448],\n",
              "       [0.01544197],\n",
              "       [0.01580277],\n",
              "       [0.0152736 ],\n",
              "       [0.02450992],\n",
              "       [0.02503909],\n",
              "       [0.02684305],\n",
              "       [0.03047505],\n",
              "       [0.02773301],\n",
              "       [0.02571257],\n",
              "       [0.02592904],\n",
              "       [0.02604931],\n",
              "       [0.02867108],\n",
              "       [0.02929645],\n",
              "       [0.03425135],\n",
              "       [0.03759471],\n",
              "       [0.03718581],\n",
              "       [0.03747444],\n",
              "       [0.03745039],\n",
              "       [0.03939868],\n",
              "       [0.03797956],\n",
              "       [0.03687312],\n",
              "       [0.03571858],\n",
              "       [0.04170776],\n",
              "       [0.04622971],\n",
              "       [0.04485869],\n",
              "       [0.04726398],\n",
              "       [0.04998196],\n",
              "       [0.04683103],\n",
              "       [0.04959711],\n",
              "       [0.04377631],\n",
              "       [0.04406494],\n",
              "       [0.04493085],\n",
              "       [0.04834636],\n",
              "       [0.05219483],\n",
              "       [0.05233915],\n",
              "       [0.04692724],\n",
              "       [0.0412267 ],\n",
              "       [0.03985568],\n",
              "       [0.04038485],\n",
              "       [0.03759471],\n",
              "       [0.03689717],\n",
              "       [0.035454  ],\n",
              "       [0.03369814],\n",
              "       [0.01799158],\n",
              "       [0.01079976],\n",
              "       [0.00817799],\n",
              "       [0.00793746],\n",
              "       [0.01164161],\n",
              "       [0.00926037],\n",
              "       [0.00697535],\n",
              "       [0.00572459],\n",
              "       [0.00589296],\n",
              "       [0.0074083 ],\n",
              "       [0.00521948],\n",
              "       [0.        ],\n",
              "       [0.00043295],\n",
              "       [0.00851473],\n",
              "       [0.00757667],\n",
              "       [0.01015033],\n",
              "       [0.00928443],\n",
              "       [0.01173782],\n",
              "       [0.01464823],\n",
              "       [0.018184  ],\n",
              "       [0.02232111],\n",
              "       [0.02422129],\n",
              "       [0.02407697],\n",
              "       [0.02289838],\n",
              "       [0.01953097],\n",
              "       [0.01775105],\n",
              "       [0.01823211],\n",
              "       [0.01993987],\n",
              "       [0.02090198],\n",
              "       [0.02068551],\n",
              "       [0.02239327],\n",
              "       [0.02042093],\n",
              "       [0.01683704],\n",
              "       [0.01712568],\n",
              "       [0.01635598],\n",
              "       [0.01734215],\n",
              "       [0.01200241],\n",
              "       [0.01144919],\n",
              "       [0.01339747],\n",
              "       [0.01253157],\n",
              "       [0.01385448],\n",
              "       [0.00736019],\n",
              "       [0.004089  ],\n",
              "       [0.0078172 ],\n",
              "       [0.00976548],\n",
              "       [0.01265183],\n",
              "       [0.01334937],\n",
              "       [0.01118461],\n",
              "       [0.01248346],\n",
              "       [0.01346963],\n",
              "       [0.01524955],\n",
              "       [0.01597114],\n",
              "       [0.01702946],\n",
              "       [0.01570655],\n",
              "       [0.02032471],\n",
              "       [0.02030066],\n",
              "       [0.02282622],\n",
              "       [0.02292243],\n",
              "       [0.02313891],\n",
              "       [0.0218641 ],\n",
              "       [0.02001203],\n",
              "       [0.01683704],\n",
              "       [0.0152255 ],\n",
              "       [0.03033073],\n",
              "       [0.03367408],\n",
              "       [0.0333614 ],\n",
              "       [0.03778713],\n",
              "       [0.03401082],\n",
              "       [0.03716176],\n",
              "       [0.03735418],\n",
              "       [0.0412267 ],\n",
              "       [0.04336741],\n",
              "       [0.04442574],\n",
              "       [0.04247745],\n",
              "       [0.04230908],\n",
              "       [0.0429104 ],\n",
              "       [0.04603728],\n",
              "       [0.04579675],\n",
              "       [0.04541191],\n",
              "       [0.04507517],\n",
              "       [0.04574865],\n",
              "       [0.04370415],\n",
              "       [0.04452195],\n",
              "       [0.04254961],\n",
              "       [0.04144317],\n",
              "       [0.03992784],\n",
              "       [0.03963921],\n",
              "       [0.03766687],\n",
              "       [0.0379074 ],\n",
              "       [0.03942273],\n",
              "       [0.04182802],\n",
              "       [0.04175586],\n",
              "       [0.04334336],\n",
              "       [0.03651233],\n",
              "       [0.03076368],\n",
              "       [0.0363199 ],\n",
              "       [0.04235719],\n",
              "       [0.0515454 ],\n",
              "       [0.06068551],\n",
              "       [0.05912207],\n",
              "       [0.05589898],\n",
              "       [0.05587492],\n",
              "       [0.05582682],\n",
              "       [0.05840048],\n",
              "       [0.05380637],\n",
              "       [0.05421527],\n",
              "       [0.05472038],\n",
              "       [0.05678894],\n",
              "       [0.05253157],\n",
              "       [0.05462417],\n",
              "       [0.05334937],\n",
              "       [0.05450391],\n",
              "       [0.05462417],\n",
              "       [0.05664462],\n",
              "       [0.05705352],\n",
              "       [0.06184005],\n",
              "       [0.06244137],\n",
              "       [0.06494287],\n",
              "       [0.06407697],\n",
              "       [0.06564041],\n",
              "       [0.06544799],\n",
              "       [0.06525556],\n",
              "       [0.06441371],\n",
              "       [0.06426939],\n",
              "       [0.06316296],\n",
              "       [0.06568851],\n",
              "       [0.06713169],\n",
              "       [0.06073361],\n",
              "       [0.05806374],\n",
              "       [0.05623572],\n",
              "       [0.05580277],\n",
              "       [0.05087192],\n",
              "       [0.05111245],\n",
              "       [0.04687913],\n",
              "       [0.0444979 ],\n",
              "       [0.0482742 ],\n",
              "       [0.04983764],\n",
              "       [0.04940469],\n",
              "       [0.04197234],\n",
              "       [0.04351173],\n",
              "       [0.03696933],\n",
              "       [0.04033674],\n",
              "       [0.04726398],\n",
              "       [0.04716777],\n",
              "       [0.04743235],\n",
              "       [0.05144919],\n",
              "       [0.05161756],\n",
              "       [0.05024654],\n",
              "       [0.05159351],\n",
              "       [0.05106434],\n",
              "       [0.05079976],\n",
              "       [0.04853879],\n",
              "       [0.04606133],\n",
              "       [0.0470475 ],\n",
              "       [0.04514732],\n",
              "       [0.04716777],\n",
              "       [0.04976548],\n",
              "       [0.05238725],\n",
              "       [0.05678894],\n",
              "       [0.0552255 ],\n",
              "       [0.0597715 ],\n",
              "       [0.0597715 ],\n",
              "       [0.06128683],\n",
              "       [0.06164762],\n",
              "       [0.06325917],\n",
              "       [0.06400481],\n",
              "       [0.06426939],\n",
              "       [0.06241732],\n",
              "       [0.06297054],\n",
              "       [0.06475045],\n",
              "       [0.06354781],\n",
              "       [0.06347565],\n",
              "       [0.06128683],\n",
              "       [0.06208058],\n",
              "       [0.06176789],\n",
              "       [0.06318701],\n",
              "       [0.06631389],\n",
              "       [0.06891161],\n",
              "       [0.06920024],\n",
              "       [0.07073963],\n",
              "       [0.06953698],\n",
              "       [0.06903187],\n",
              "       [0.07134095],\n",
              "       [0.0713169 ],\n",
              "       [0.07081179],\n",
              "       [0.07134095],\n",
              "       [0.07153337],\n",
              "       [0.07126879],\n",
              "       [0.0758629 ],\n",
              "       [0.07600722],\n",
              "       [0.07603127],\n",
              "       [0.07526158],\n",
              "       [0.07458809],\n",
              "       [0.09238725],\n",
              "       [0.09185809],\n",
              "       [0.093181  ],\n",
              "       [0.0960914 ],\n",
              "       [0.09907396],\n",
              "       [0.10030066],\n",
              "       [0.10121467],\n",
              "       [0.10049308],\n",
              "       [0.10330728],\n",
              "       [0.10746843],\n",
              "       [0.10864702],\n",
              "       [0.10825015],\n",
              "       [0.10915213],\n",
              "       [0.11150932],\n",
              "       [0.11249549],\n",
              "       [0.11110042],\n",
              "       [0.11141311],\n",
              "       [0.11206254],\n",
              "       [0.11220686],\n",
              "       [0.11894167],\n",
              "       [0.11694528],\n",
              "       [0.11891762],\n",
              "       [0.11785929],\n",
              "       [0.11829224],\n",
              "       [0.11704149],\n",
              "       [0.1162718 ],\n",
              "       [0.11737823],\n",
              "       [0.11752255],\n",
              "       [0.11701744],\n",
              "       [0.12055322],\n",
              "       [0.12110643],\n",
              "       [0.11942273],\n",
              "       [0.12295851],\n",
              "       [0.11906194],\n",
              "       [0.1228623 ],\n",
              "       [0.12165965],\n",
              "       [0.12098617],\n",
              "       [0.12156344],\n",
              "       [0.12858689],\n",
              "       [0.12935658],\n",
              "       [0.12889958],\n",
              "       [0.12825015],\n",
              "       [0.12834636],\n",
              "       [0.13092002],\n",
              "       [0.12911606],\n",
              "       [0.12825015],\n",
              "       [0.12748046],\n",
              "       [0.12707156],\n",
              "       [0.12336741],\n",
              "       [0.12377631],\n",
              "       [0.12197234],\n",
              "       [0.12384847],\n",
              "       [0.12233313],\n",
              "       [0.12108238],\n",
              "       [0.12531569],\n",
              "       [0.12490679],\n",
              "       [0.12820204],\n",
              "       [0.13034275],\n",
              "       [0.12829826],\n",
              "       [0.12856284],\n",
              "       [0.1282261 ],\n",
              "       [0.1352736 ],\n",
              "       [0.13751052],\n",
              "       [0.13642814],\n",
              "       [0.13515334],\n",
              "       [0.1409982 ],\n",
              "       [0.15073963],\n",
              "       [0.15309681],\n",
              "       [0.15134095],\n",
              "       [0.1530006 ],\n",
              "       [0.15817198],\n",
              "       [0.15720986],\n",
              "       [0.15665664],\n",
              "       [0.14410102],\n",
              "       [0.14960914],\n",
              "       [0.15085989],\n",
              "       [0.15309681],\n",
              "       [0.15263981],\n",
              "       [0.15153337],\n",
              "       [0.15280818],\n",
              "       [0.1521828 ],\n",
              "       [0.15232712],\n",
              "       [0.1501383 ],\n",
              "       [0.15114853],\n",
              "       [0.15660854],\n",
              "       [0.1529525 ],\n",
              "       [0.15420325],\n",
              "       [0.15641612],\n",
              "       [0.1555021 ],\n",
              "       [0.1410463 ],\n",
              "       [0.13248346],\n",
              "       [0.13529765],\n",
              "       [0.13185809],\n",
              "       [0.12976548],\n",
              "       [0.12490679],\n",
              "       [0.13469633],\n",
              "       [0.13149729],\n",
              "       [0.13356584],\n",
              "       [0.13298857],\n",
              "       [0.13455201],\n",
              "       [0.13344558],\n",
              "       [0.12841852],\n",
              "       [0.13346963],\n",
              "       [0.12829826],\n",
              "       [0.12911606],\n",
              "       [0.1278653 ],\n",
              "       [0.12928443],\n",
              "       [0.12601323],\n",
              "       [0.1295009 ],\n",
              "       [0.13161756],\n",
              "       [0.13274805],\n",
              "       [0.13325316],\n",
              "       [0.1381359 ],\n",
              "       [0.14119062],\n",
              "       [0.14244137],\n",
              "       [0.14369212],\n",
              "       [0.1459531 ],\n",
              "       [0.1443175 ],\n",
              "       [0.14414913],\n",
              "       [0.14852676],\n",
              "       [0.1500902 ],\n",
              "       [0.15182201],\n",
              "       [0.14484666],\n",
              "       [0.14229705],\n",
              "       [0.14044498],\n",
              "       [0.14361996],\n",
              "       [0.16067348],\n",
              "       [0.15689717],\n",
              "       [0.15886951],\n",
              "       [0.16469032],\n",
              "       [0.16774504],\n",
              "       [0.17010222],\n",
              "       [0.15629585],\n",
              "       [0.16149128],\n",
              "       [0.16719182],\n",
              "       [0.17140108],\n",
              "       [0.16983764],\n",
              "       [0.16240529],\n",
              "       [0.16153939],\n",
              "       [0.16084185],\n",
              "       [0.16702345],\n",
              "       [0.16750451],\n",
              "       [0.16579675],\n",
              "       [0.16721587],\n",
              "       [0.17108839],\n",
              "       [0.17455201],\n",
              "       [0.17561034],\n",
              "       [0.17717378],\n",
              "       [0.17729405],\n",
              "       [0.17255562],\n",
              "       [0.17214672],\n",
              "       [0.17058328],\n",
              "       [0.16425737],\n",
              "       [0.17116055],\n",
              "       [0.16962117],\n",
              "       [0.16671076],\n",
              "       [0.16341551],\n",
              "       [0.16726398],\n",
              "       [0.16435358],\n",
              "       [0.1644979 ],\n",
              "       [0.15809982],\n",
              "       [0.15165364],\n",
              "       [0.1480457 ],\n",
              "       [0.14482261],\n",
              "       [0.15105232],\n",
              "       [0.15367408],\n",
              "       [0.15138906],\n",
              "       [0.1534095 ],\n",
              "       [0.15266386],\n",
              "       [0.15427541],\n",
              "       [0.15187011],\n",
              "       [0.15646422],\n",
              "       [0.15624775],\n",
              "       [0.1575466 ],\n",
              "       [0.15769092],\n",
              "       [0.15925436],\n",
              "       [0.15793145],\n",
              "       [0.16031269],\n",
              "       [0.16726398],\n",
              "       [0.1686831 ],\n",
              "       [0.16697535],\n",
              "       [0.15788334],\n",
              "       [0.15853277],\n",
              "       [0.15834035],\n",
              "       [0.16057727],\n",
              "       [0.15891762],\n",
              "       [0.16132291],\n",
              "       [0.17488876],\n",
              "       [0.18371618],\n",
              "       [0.18929645],\n",
              "       [0.18412508],\n",
              "       [0.18705953],\n",
              "       [0.19761876],\n",
              "       [0.20182802],\n",
              "       [0.20317498],\n",
              "       [0.20661455],\n",
              "       [0.20574865],\n",
              "       [0.20283824],\n",
              "       [0.20115454],\n",
              "       [0.19482862],\n",
              "       [0.18939266],\n",
              "       [0.19425135],\n",
              "       [0.19196633],\n",
              "       [0.19155743],\n",
              "       [0.19915815],\n",
              "       [0.20353578],\n",
              "       [0.20355983],\n",
              "       [0.20144317],\n",
              "       [0.19898978],\n",
              "       [0.19035478],\n",
              "       [0.19605532],\n",
              "       [0.19413109],\n",
              "       [0.19112447],\n",
              "       [0.19073963],\n",
              "       [0.18922429],\n",
              "       [0.18996993],\n",
              "       [0.1900902 ],\n",
              "       [0.19802766],\n",
              "       [0.19569453],\n",
              "       [0.19706554],\n",
              "       [0.19694528],\n",
              "       [0.20115454],\n",
              "       [0.2070475 ],\n",
              "       [0.20252556],\n",
              "       [0.20206855],\n",
              "       [0.20365604],\n",
              "       [0.20365604],\n",
              "       [0.19297655],\n",
              "       [0.19304871],\n",
              "       [0.19420325],\n",
              "       [0.18975346],\n",
              "       [0.19704149],\n",
              "       [0.19696933],\n",
              "       [0.19889357],\n",
              "       [0.20363199],\n",
              "       [0.20206855],\n",
              "       [0.20202044],\n",
              "       [0.20192423],\n",
              "       [0.20430547],\n",
              "       [0.20865905],\n",
              "       [0.20649429],\n",
              "       [0.21349369],\n",
              "       [0.21387853],\n",
              "       [0.2119543 ],\n",
              "       [0.20844257],\n",
              "       [0.20853879],\n",
              "       [0.20175586],\n",
              "       [0.19427541],\n",
              "       [0.19523752],\n",
              "       [0.18669874],\n",
              "       [0.1843175 ],\n",
              "       [0.18542393],\n",
              "       [0.18626578],\n",
              "       [0.16875526],\n",
              "       [0.15911004],\n",
              "       [0.17484065],\n",
              "       [0.16644618],\n",
              "       [0.15588695],\n",
              "       [0.15891762],\n",
              "       [0.17407096],\n",
              "       [0.17799158],\n",
              "       [0.18527962],\n",
              "       [0.19879735],\n",
              "       [0.19745039],\n",
              "       [0.19605532],\n",
              "       [0.19417919],\n",
              "       [0.19761876],\n",
              "       [0.20483464],\n",
              "       [0.213181  ],\n",
              "       [0.21178593],\n",
              "       [0.2111365 ],\n",
              "       [0.20363199],\n",
              "       [0.20654239],\n",
              "       [0.20800962],\n",
              "       [0.20764883],\n",
              "       [0.20370415],\n",
              "       [0.20829826],\n",
              "       [0.21561034],\n",
              "       [0.21979555],\n",
              "       [0.21558629],\n",
              "       [0.21190619],\n",
              "       [0.2124113 ],\n",
              "       [0.21089597],\n",
              "       [0.20435358],\n",
              "       [0.20420926],\n",
              "       [0.19466025],\n",
              "       [0.18883945],\n",
              "       [0.17943476],\n",
              "       [0.19826819],\n",
              "       [0.18761275],\n",
              "       [0.18313891],\n",
              "       [0.18626578],\n",
              "       [0.18361996],\n",
              "       [0.18773301],\n",
              "       [0.19547805],\n",
              "       [0.19834035],\n",
              "       [0.18770896],\n",
              "       [0.1917258 ],\n",
              "       [0.19942273],\n",
              "       [0.19747444],\n",
              "       [0.20156344],\n",
              "       [0.20298256],\n",
              "       [0.20560433],\n",
              "       [0.21142514],\n",
              "       [0.21046302],\n",
              "       [0.19834035],\n",
              "       [0.18131088],\n",
              "       [0.18015634],\n",
              "       [0.17462417],\n",
              "       [0.17633193],\n",
              "       [0.17770295],\n",
              "       [0.17313289],\n",
              "       [0.18020445],\n",
              "       [0.18944077],\n",
              "       [0.2074083 ],\n",
              "       [0.20817799],\n",
              "       [0.22487072],\n",
              "       [0.22806975],\n",
              "       [0.23021046],\n",
              "       [0.2333614 ],\n",
              "       [0.23980758],\n",
              "       [0.2363199 ],\n",
              "       [0.23526158],\n",
              "       [0.23114853],\n",
              "       [0.23533373],\n",
              "       [0.23247144],\n",
              "       [0.23083584],\n",
              "       [0.23401082],\n",
              "       [0.23288034],\n",
              "       [0.23576669],\n",
              "       [0.23526158],\n",
              "       [0.23629585],\n",
              "       [0.23466025],\n",
              "       [0.23369814],\n",
              "       [0.2321828 ],\n",
              "       [0.24028863],\n",
              "       [0.24411305],\n",
              "       [0.24767288],\n",
              "       [0.24928443],\n",
              "       [0.24803367],\n",
              "       [0.24380036],\n",
              "       [0.24266987],\n",
              "       [0.24519543],\n",
              "       [0.24139507],\n",
              "       [0.2416356 ],\n",
              "       [0.23692123],\n",
              "       [0.2366807 ],\n",
              "       [0.22934456],\n",
              "       [0.23129284],\n",
              "       [0.22879134],\n",
              "       [0.22749248],\n",
              "       [0.22087793],\n",
              "       [0.22631389],\n",
              "       [0.22566446],\n",
              "       [0.22888755],\n",
              "       [0.22794949],\n",
              "       [0.23292844],\n",
              "       [0.22508719],\n",
              "       [0.22864702],\n",
              "       [0.23482862],\n",
              "       [0.24110643],\n",
              "       [0.24055322],\n",
              "       [0.23461215],\n",
              "       [0.24218882],\n",
              "       [0.2429104 ],\n",
              "       [0.24190018],\n",
              "       [0.24319904],\n",
              "       [0.24067348],\n",
              "       [0.24423331],\n",
              "       [0.24317498],\n",
              "       [0.24358388],\n",
              "       [0.24692724],\n",
              "       [0.25130487],\n",
              "       [0.24983764],\n",
              "       [0.24206855],\n",
              "       [0.23949489],\n",
              "       [0.2404089 ],\n",
              "       [0.26737222],\n",
              "       [0.28153939],\n",
              "       [0.28298256],\n",
              "       [0.28558028],\n",
              "       [0.2808659 ],\n",
              "       [0.28120265],\n",
              "       [0.28512327],\n",
              "       [0.28187613],\n",
              "       [0.28509922],\n",
              "       [0.28721587],\n",
              "       [0.28839447],\n",
              "       [0.29580277],\n",
              "       [0.30604931],\n",
              "       [0.30095009],\n",
              "       [0.29993987],\n",
              "       [0.29996392],\n",
              "       [0.30102225],\n",
              "       [0.30263379],\n",
              "       [0.30691521],\n",
              "       [0.31114853],\n",
              "       [0.31903788],\n",
              "       [0.32396873],\n",
              "       [0.33022249],\n",
              "       [0.33197835],\n",
              "       [0.32839447],\n",
              "       [0.31932652],\n",
              "       [0.31499699],\n",
              "       [0.30785328],\n",
              "       [0.32113049],\n",
              "       [0.31444378],\n",
              "       [0.32728803],\n",
              "       [0.32110643],\n",
              "       [0.3067709 ],\n",
              "       [0.3076368 ],\n",
              "       [0.30794949],\n",
              "       [0.31194227],\n",
              "       [0.30624173],\n",
              "       [0.31377029],\n",
              "       [0.3171377 ],\n",
              "       [0.31288034],\n",
              "       [0.32377631],\n",
              "       [0.32567649],\n",
              "       [0.32933253],\n",
              "       [0.33419122],\n",
              "       [0.34090198],\n",
              "       [0.33108839],\n",
              "       [0.32218882],\n",
              "       [0.32093806],\n",
              "       [0.32839447],\n",
              "       [0.30311485],\n",
              "       [0.29852075],\n",
              "       [0.31694528],\n",
              "       [0.30552014],\n",
              "       [0.31704149],\n",
              "       [0.31473241],\n",
              "       [0.30229705],\n",
              "       [0.31021046],\n",
              "       [0.31343355],\n",
              "       [0.31843656],\n",
              "       [0.30006013],\n",
              "       [0.31138906],\n",
              "       [0.30297054],\n",
              "       [0.29320505],\n",
              "       [0.29575466],\n",
              "       [0.30912808],\n",
              "       [0.31720986],\n",
              "       [0.28175586],\n",
              "       [0.2675887 ],\n",
              "       [0.27283223],\n",
              "       [0.28769693],\n",
              "       [0.28418521],\n",
              "       [0.27451594],\n",
              "       [0.24974143],\n",
              "       [0.24507517],\n",
              "       [0.23201443],\n",
              "       [0.24310283],\n",
              "       [0.24820204],\n",
              "       [0.22975346],\n",
              "       [0.20839447],\n",
              "       [0.20791341],\n",
              "       [0.19711365],\n",
              "       [0.20271798],\n",
              "       [0.20180397],\n",
              "       [0.21791942],\n",
              "       [0.21457607],\n",
              "       [0.21224293],\n",
              "       [0.22725195],\n",
              "       [0.20769693],\n",
              "       [0.20295851],\n",
              "       [0.18797354],\n",
              "       [0.19064342],\n",
              "       [0.18831028],\n",
              "       [0.18944077],\n",
              "       [0.19389056],\n",
              "       [0.18073361],\n",
              "       [0.17702946],\n",
              "       [0.18215274],\n",
              "       [0.16969333],\n",
              "       [0.15992784],\n",
              "       [0.14525556],\n",
              "       [0.13587492],\n",
              "       [0.16074564],\n",
              "       [0.15829224],\n",
              "       [0.15848467],\n",
              "       [0.16211666],\n",
              "       [0.16254961],\n",
              "       [0.12471437],\n",
              "       [0.13931449],\n",
              "       [0.13852075],\n",
              "       [0.14530367],\n",
              "       [0.15146121],\n",
              "       [0.15263981],\n",
              "       [0.14900782],\n",
              "       [0.1434997 ],\n",
              "       [0.15088394],\n",
              "       [0.15538184],\n",
              "       [0.15759471],\n",
              "       [0.15990379],\n",
              "       [0.15143716],\n",
              "       [0.15292844],\n",
              "       [0.14999399],\n",
              "       [0.16216476],\n",
              "       [0.15865304],\n",
              "       [0.15475646],\n",
              "       [0.1801804 ],\n",
              "       [0.18304269],\n",
              "       [0.18323512],\n",
              "       [0.19461215],\n",
              "       [0.20165965],\n",
              "       [0.20180397],\n",
              "       [0.19386651],\n",
              "       [0.1925917 ],\n",
              "       [0.19023452],\n",
              "       [0.19374624],\n",
              "       [0.19203848],\n",
              "       [0.19352977],\n",
              "       [0.19261575],\n",
              "       [0.19384245],\n",
              "       [0.19648827],\n",
              "       [0.19415514],\n",
              "       [0.19874925],\n",
              "       [0.20177992]])"
            ]
          },
          "metadata": {
            "tags": []
          },
          "execution_count": 64
        }
      ]
    },
    {
      "cell_type": "code",
      "metadata": {
        "id": "hBdhEV14dPVh"
      },
      "source": [
        "import numpy\n",
        "# convert an array of values into a dataset matrix\n",
        "def create_dataset(dataset, time_step=1):\n",
        "\tdataX, dataY = [], []\n",
        "\tfor i in range(len(dataset)-time_step-1):\n",
        "\t\ta = dataset[i:(i+time_step), 0]   ###i=0, 0,1,2,3-----99   100 \n",
        "\t\tdataX.append(a)\n",
        "\t\tdataY.append(dataset[i + time_step, 0])\n",
        "\treturn numpy.array(dataX), numpy.array(dataY)"
      ],
      "execution_count": 65,
      "outputs": []
    },
    {
      "cell_type": "code",
      "metadata": {
        "id": "LxpQwDtUdPVh"
      },
      "source": [
        "# reshape into X=t,t+1,t+2,t+3 and Y=t+4\n",
        "time_step = 100\n",
        "X_train, y_train = create_dataset(train_data, time_step)\n",
        "X_test, ytest = create_dataset(test_data, time_step)"
      ],
      "execution_count": 66,
      "outputs": []
    },
    {
      "cell_type": "code",
      "metadata": {
        "colab": {
          "base_uri": "https://localhost:8080/"
        },
        "id": "d76g-40hdPVh",
        "outputId": "9e0c891f-0d85-45f9-f249-34952eb13eda"
      },
      "source": [
        "print(X_train.shape), print(y_train.shape)"
      ],
      "execution_count": 67,
      "outputs": [
        {
          "output_type": "stream",
          "text": [
            "(717, 100)\n",
            "(717,)\n"
          ],
          "name": "stdout"
        },
        {
          "output_type": "execute_result",
          "data": {
            "text/plain": [
              "(None, None)"
            ]
          },
          "metadata": {
            "tags": []
          },
          "execution_count": 67
        }
      ]
    },
    {
      "cell_type": "code",
      "metadata": {
        "colab": {
          "base_uri": "https://localhost:8080/"
        },
        "id": "euUyQ_NXdPVh",
        "outputId": "2c450409-f742-4588-9b34-02c4db6fcb11"
      },
      "source": [
        "print(X_test.shape), print(ytest.shape)"
      ],
      "execution_count": 68,
      "outputs": [
        {
          "output_type": "stream",
          "text": [
            "(340, 100)\n",
            "(340,)\n"
          ],
          "name": "stdout"
        },
        {
          "output_type": "execute_result",
          "data": {
            "text/plain": [
              "(None, None)"
            ]
          },
          "metadata": {
            "tags": []
          },
          "execution_count": 68
        }
      ]
    },
    {
      "cell_type": "code",
      "metadata": {
        "id": "5tJcMPzBdPVh"
      },
      "source": [
        "# reshape input to be [samples, time steps, features] which is required for LSTM\n",
        "X_train =X_train.reshape(X_train.shape[0],X_train.shape[1] , 1)\n",
        "X_test = X_test.reshape(X_test.shape[0],X_test.shape[1] , 1)"
      ],
      "execution_count": 69,
      "outputs": []
    },
    {
      "cell_type": "code",
      "metadata": {
        "id": "cbNqBdeadPVh"
      },
      "source": [
        "### Create the Stacked LSTM model\n",
        "from tensorflow.keras.models import Sequential\n",
        "from tensorflow.keras.layers import Dense\n",
        "from tensorflow.keras.layers import LSTM"
      ],
      "execution_count": 70,
      "outputs": []
    },
    {
      "cell_type": "code",
      "metadata": {
        "id": "xC4CvD5WdPVh"
      },
      "source": [
        "model=Sequential()\n",
        "model.add(LSTM(50,return_sequences=True,input_shape=(100,1)))\n",
        "model.add(LSTM(50,return_sequences=True))\n",
        "model.add(LSTM(50))\n",
        "model.add(Dense(1))\n",
        "model.compile(loss='mean_squared_error',optimizer='adam')\n"
      ],
      "execution_count": 71,
      "outputs": []
    },
    {
      "cell_type": "code",
      "metadata": {
        "colab": {
          "base_uri": "https://localhost:8080/"
        },
        "id": "I4vWxWgxdPVh",
        "outputId": "77ae1c46-475d-462f-ee04-d03b555eb638"
      },
      "source": [
        "model.summary()"
      ],
      "execution_count": 72,
      "outputs": [
        {
          "output_type": "stream",
          "text": [
            "Model: \"sequential_1\"\n",
            "_________________________________________________________________\n",
            "Layer (type)                 Output Shape              Param #   \n",
            "=================================================================\n",
            "lstm_3 (LSTM)                (None, 100, 50)           10400     \n",
            "_________________________________________________________________\n",
            "lstm_4 (LSTM)                (None, 100, 50)           20200     \n",
            "_________________________________________________________________\n",
            "lstm_5 (LSTM)                (None, 50)                20200     \n",
            "_________________________________________________________________\n",
            "dense_1 (Dense)              (None, 1)                 51        \n",
            "=================================================================\n",
            "Total params: 50,851\n",
            "Trainable params: 50,851\n",
            "Non-trainable params: 0\n",
            "_________________________________________________________________\n"
          ],
          "name": "stdout"
        }
      ]
    },
    {
      "cell_type": "code",
      "metadata": {
        "colab": {
          "base_uri": "https://localhost:8080/"
        },
        "id": "hQZ7LAA3dPVh",
        "outputId": "00ed6bf6-f535-43af-cf7c-032267f9fad9"
      },
      "source": [
        "model.summary()"
      ],
      "execution_count": 73,
      "outputs": [
        {
          "output_type": "stream",
          "text": [
            "Model: \"sequential_1\"\n",
            "_________________________________________________________________\n",
            "Layer (type)                 Output Shape              Param #   \n",
            "=================================================================\n",
            "lstm_3 (LSTM)                (None, 100, 50)           10400     \n",
            "_________________________________________________________________\n",
            "lstm_4 (LSTM)                (None, 100, 50)           20200     \n",
            "_________________________________________________________________\n",
            "lstm_5 (LSTM)                (None, 50)                20200     \n",
            "_________________________________________________________________\n",
            "dense_1 (Dense)              (None, 1)                 51        \n",
            "=================================================================\n",
            "Total params: 50,851\n",
            "Trainable params: 50,851\n",
            "Non-trainable params: 0\n",
            "_________________________________________________________________\n"
          ],
          "name": "stdout"
        }
      ]
    },
    {
      "cell_type": "code",
      "metadata": {
        "id": "byZwV1rhdPVh"
      },
      "source": [
        ""
      ],
      "execution_count": 73,
      "outputs": []
    },
    {
      "cell_type": "code",
      "metadata": {
        "colab": {
          "base_uri": "https://localhost:8080/"
        },
        "id": "m3urTclSdPVh",
        "outputId": "6311d5ea-f5f3-4456-ab73-422c304bb795"
      },
      "source": [
        "model.fit(X_train,y_train,validation_data=(X_test,ytest),epochs=100,batch_size=64,verbose=1)"
      ],
      "execution_count": null,
      "outputs": [
        {
          "output_type": "stream",
          "text": [
            "Epoch 1/100\n",
            "12/12 [==============================] - 3s 267ms/step - loss: 0.0083 - val_loss: 0.0573\n",
            "Epoch 2/100\n",
            "12/12 [==============================] - 2s 180ms/step - loss: 0.0022 - val_loss: 0.0216\n",
            "Epoch 3/100\n",
            "12/12 [==============================] - 2s 174ms/step - loss: 5.9997e-04 - val_loss: 0.0218\n",
            "Epoch 4/100\n",
            "12/12 [==============================] - 2s 180ms/step - loss: 4.7191e-04 - val_loss: 0.0191\n",
            "Epoch 5/100\n",
            "12/12 [==============================] - 2s 182ms/step - loss: 3.6223e-04 - val_loss: 0.0189\n",
            "Epoch 6/100\n",
            "12/12 [==============================] - 2s 176ms/step - loss: 3.3534e-04 - val_loss: 0.0183\n",
            "Epoch 7/100\n",
            "12/12 [==============================] - 2s 186ms/step - loss: 3.2206e-04 - val_loss: 0.0179\n",
            "Epoch 8/100\n",
            "12/12 [==============================] - 2s 173ms/step - loss: 3.1632e-04 - val_loss: 0.0174\n",
            "Epoch 9/100\n",
            "12/12 [==============================] - 2s 175ms/step - loss: 3.1873e-04 - val_loss: 0.0170\n",
            "Epoch 10/100\n",
            "12/12 [==============================] - 2s 178ms/step - loss: 3.0268e-04 - val_loss: 0.0166\n",
            "Epoch 11/100\n",
            "12/12 [==============================] - 2s 180ms/step - loss: 2.8706e-04 - val_loss: 0.0167\n",
            "Epoch 12/100\n",
            "12/12 [==============================] - 2s 184ms/step - loss: 3.1366e-04 - val_loss: 0.0167\n",
            "Epoch 13/100\n",
            "12/12 [==============================] - 2s 177ms/step - loss: 2.7905e-04 - val_loss: 0.0156\n",
            "Epoch 14/100\n",
            " 2/12 [====>.........................] - ETA: 0s - loss: 2.4412e-04"
          ],
          "name": "stdout"
        }
      ]
    },
    {
      "cell_type": "code",
      "metadata": {
        "id": "lNfd4AvWdPVh"
      },
      "source": [
        "import tensorflow as tf"
      ],
      "execution_count": null,
      "outputs": []
    },
    {
      "cell_type": "code",
      "metadata": {
        "id": "eBKHzha1dPVh"
      },
      "source": [
        "tf.__version__"
      ],
      "execution_count": null,
      "outputs": []
    },
    {
      "cell_type": "code",
      "metadata": {
        "id": "_ah4t3cKdPVi"
      },
      "source": [
        "### Lets Do the prediction and check performance metrics\n",
        "train_predict=model.predict(X_train)\n",
        "test_predict=model.predict(X_test)"
      ],
      "execution_count": null,
      "outputs": []
    },
    {
      "cell_type": "code",
      "metadata": {
        "id": "c31luJnXdPVi"
      },
      "source": [
        "##Transformback to original form\n",
        "train_predict=scaler.inverse_transform(train_predict)\n",
        "test_predict=scaler.inverse_transform(test_predict)"
      ],
      "execution_count": null,
      "outputs": []
    },
    {
      "cell_type": "code",
      "metadata": {
        "id": "13F5ze4vdPVi"
      },
      "source": [
        "### Calculate RMSE performance metrics\n",
        "import math\n",
        "from sklearn.metrics import mean_squared_error\n",
        "math.sqrt(mean_squared_error(y_train,train_predict))"
      ],
      "execution_count": null,
      "outputs": []
    },
    {
      "cell_type": "code",
      "metadata": {
        "id": "Z7vF67-KdPVi"
      },
      "source": [
        "### Test Data RMSE\n",
        "math.sqrt(mean_squared_error(ytest,test_predict))"
      ],
      "execution_count": null,
      "outputs": []
    },
    {
      "cell_type": "code",
      "metadata": {
        "id": "f7B5LJ2OdPVi"
      },
      "source": [
        "### Plotting \n",
        "# shift train predictions for plotting\n",
        "look_back=100\n",
        "trainPredictPlot = numpy.empty_like(df1)\n",
        "trainPredictPlot[:, :] = np.nan\n",
        "trainPredictPlot[look_back:len(train_predict)+look_back, :] = train_predict\n",
        "# shift test predictions for plotting\n",
        "testPredictPlot = numpy.empty_like(df1)\n",
        "testPredictPlot[:, :] = numpy.nan\n",
        "testPredictPlot[len(train_predict)+(look_back*2)+1:len(df1)-1, :] = test_predict\n",
        "# plot baseline and predictions\n",
        "plt.plot(scaler.inverse_transform(df1))\n",
        "plt.plot(trainPredictPlot)\n",
        "plt.plot(testPredictPlot)\n",
        "plt.show()"
      ],
      "execution_count": null,
      "outputs": []
    },
    {
      "cell_type": "code",
      "metadata": {
        "id": "RVTAJzGsdPVi"
      },
      "source": [
        "len(test_data)"
      ],
      "execution_count": null,
      "outputs": []
    },
    {
      "cell_type": "code",
      "metadata": {
        "id": "2-uQjIxndPVi"
      },
      "source": [
        "x_input=test_data[341:].reshape(1,-1)\n",
        "x_input.shape\n"
      ],
      "execution_count": null,
      "outputs": []
    },
    {
      "cell_type": "code",
      "metadata": {
        "id": "9QsouJP0dPVi"
      },
      "source": [
        ""
      ],
      "execution_count": null,
      "outputs": []
    },
    {
      "cell_type": "code",
      "metadata": {
        "id": "iOo8I0GjdPVi"
      },
      "source": [
        ""
      ],
      "execution_count": null,
      "outputs": []
    },
    {
      "cell_type": "code",
      "metadata": {
        "id": "0ZVOT9Z9dPVi"
      },
      "source": [
        "temp_input=list(x_input)\n",
        "temp_input=temp_input[0].tolist()"
      ],
      "execution_count": null,
      "outputs": []
    },
    {
      "cell_type": "code",
      "metadata": {
        "id": "9Z7vukYidPVi"
      },
      "source": [
        "temp_input"
      ],
      "execution_count": null,
      "outputs": []
    },
    {
      "cell_type": "code",
      "metadata": {
        "id": "v_L2fJBndPVj"
      },
      "source": [
        "# demonstrate prediction for next 10 days\n",
        "from numpy import array\n",
        "\n",
        "lst_output=[]\n",
        "n_steps=100\n",
        "i=0\n",
        "while(i<30):\n",
        "    \n",
        "    if(len(temp_input)>100):\n",
        "        #print(temp_input)\n",
        "        x_input=np.array(temp_input[1:])\n",
        "        print(\"{} day input {}\".format(i,x_input))\n",
        "        x_input=x_input.reshape(1,-1)\n",
        "        x_input = x_input.reshape((1, n_steps, 1))\n",
        "        #print(x_input)\n",
        "        yhat = model.predict(x_input, verbose=0)\n",
        "        print(\"{} day output {}\".format(i,yhat))\n",
        "        temp_input.extend(yhat[0].tolist())\n",
        "        temp_input=temp_input[1:]\n",
        "        #print(temp_input)\n",
        "        lst_output.extend(yhat.tolist())\n",
        "        i=i+1\n",
        "    else:\n",
        "        x_input = x_input.reshape((1, n_steps,1))\n",
        "        yhat = model.predict(x_input, verbose=0)\n",
        "        print(yhat[0])\n",
        "        temp_input.extend(yhat[0].tolist())\n",
        "        print(len(temp_input))\n",
        "        lst_output.extend(yhat.tolist())\n",
        "        i=i+1\n",
        "    \n",
        "\n",
        "print(lst_output)"
      ],
      "execution_count": null,
      "outputs": []
    },
    {
      "cell_type": "code",
      "metadata": {
        "id": "Hx0wvwyZdPVj"
      },
      "source": [
        "day_new=np.arange(1,101)\n",
        "day_pred=np.arange(101,131)"
      ],
      "execution_count": null,
      "outputs": []
    },
    {
      "cell_type": "code",
      "metadata": {
        "id": "klbtRs4adPVj"
      },
      "source": [
        "import matplotlib.pyplot as plt"
      ],
      "execution_count": null,
      "outputs": []
    },
    {
      "cell_type": "code",
      "metadata": {
        "id": "nPbnhrtndPVj"
      },
      "source": [
        "len(df1)"
      ],
      "execution_count": null,
      "outputs": []
    },
    {
      "cell_type": "code",
      "metadata": {
        "id": "11ywNwbVdPVj"
      },
      "source": [
        ""
      ],
      "execution_count": null,
      "outputs": []
    },
    {
      "cell_type": "code",
      "metadata": {
        "id": "iCb4sqVTdPVj"
      },
      "source": [
        "plt.plot(day_new,scaler.inverse_transform(df1[1158:]))\n",
        "plt.plot(day_pred,scaler.inverse_transform(lst_output))"
      ],
      "execution_count": null,
      "outputs": []
    },
    {
      "cell_type": "code",
      "metadata": {
        "id": "ES_q7ZqBdPVj"
      },
      "source": [
        "df3=df1.tolist()\n",
        "df3.extend(lst_output)\n",
        "plt.plot(df3[1200:])"
      ],
      "execution_count": null,
      "outputs": []
    },
    {
      "cell_type": "code",
      "metadata": {
        "id": "jbk3e1l5dPVj"
      },
      "source": [
        "df3=scaler.inverse_transform(df3).tolist()"
      ],
      "execution_count": null,
      "outputs": []
    },
    {
      "cell_type": "code",
      "metadata": {
        "id": "QUIdpDLmdPVj"
      },
      "source": [
        "plt.plot(df3)"
      ],
      "execution_count": null,
      "outputs": []
    },
    {
      "cell_type": "code",
      "metadata": {
        "id": "5AIqQujQdPVj"
      },
      "source": [
        ""
      ],
      "execution_count": null,
      "outputs": []
    }
  ]
}